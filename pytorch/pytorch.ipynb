{
 "cells": [
  {
   "cell_type": "code",
   "execution_count": 2,
   "id": "df1dd30b",
   "metadata": {},
   "outputs": [],
   "source": [
    "import numpy as np\n",
    "import pandas as pd\n",
    "import torch"
   ]
  },
  {
   "cell_type": "code",
   "execution_count": 14,
   "id": "ce12f8c1",
   "metadata": {},
   "outputs": [
    {
     "data": {
      "text/plain": [
       "tensor([[6, 3, 3],\n",
       "        [4, 4, 6],\n",
       "        [5, 5, 5],\n",
       "        [3, 3, 4],\n",
       "        [4, 6, 5]])"
      ]
     },
     "execution_count": 14,
     "metadata": {},
     "output_type": "execute_result"
    }
   ],
   "source": [
    "x=torch.randint(3,7,size=(5,3))\n",
    "x "
   ]
  },
  {
   "cell_type": "code",
   "execution_count": 21,
   "id": "4d8d86c1",
   "metadata": {},
   "outputs": [
    {
     "data": {
      "text/plain": [
       "tensor([-1.1270,  1.0817,  1.2469, -0.4767,  0.7070])"
      ]
     },
     "execution_count": 21,
     "metadata": {},
     "output_type": "execute_result"
    }
   ],
   "source": [
    "y=torch.randn(5,)\n",
    "y"
   ]
  },
  {
   "cell_type": "code",
   "execution_count": 23,
   "id": "cc2b59d1",
   "metadata": {},
   "outputs": [
    {
     "data": {
      "text/plain": [
       "tensor([[0, 0],\n",
       "        [0, 1],\n",
       "        [0, 2],\n",
       "        [0, 4],\n",
       "        [1, 2],\n",
       "        [1, 3],\n",
       "        [1, 4]])"
      ]
     },
     "execution_count": 23,
     "metadata": {},
     "output_type": "execute_result"
    }
   ],
   "source": [
    "x=torch.Tensor([[1,1,1,0,1],[0,0,1,1,1]])\n",
    "torch.nonzero(x)"
   ]
  },
  {
   "cell_type": "code",
   "execution_count": 28,
   "id": "49a0ee9c",
   "metadata": {},
   "outputs": [
    {
     "data": {
      "text/plain": [
       "tensor([[0.5085],\n",
       "        [0.5815],\n",
       "        [0.4336]])"
      ]
     },
     "execution_count": 28,
     "metadata": {},
     "output_type": "execute_result"
    }
   ],
   "source": [
    "x=torch.rand(3,1)\n",
    "x.expand(-1,4)\n",
    "x"
   ]
  },
  {
   "cell_type": "code",
   "execution_count": 30,
   "id": "df7a1c11",
   "metadata": {},
   "outputs": [
    {
     "data": {
      "text/plain": [
       "tensor([[[1.1769, 0.6644, 1.0273, 0.9723],\n",
       "         [1.5004, 1.2287, 1.1642, 0.7153],\n",
       "         [1.6208, 1.6092, 1.3354, 1.0082],\n",
       "         [1.0822, 0.7225, 0.8352, 0.7081]],\n",
       "\n",
       "        [[0.3682, 0.3023, 0.4889, 0.2759],\n",
       "         [1.2438, 0.9429, 1.4558, 0.8463],\n",
       "         [1.1820, 0.8420, 1.4475, 0.6755],\n",
       "         [1.3018, 1.2225, 1.7594, 0.4768]],\n",
       "\n",
       "        [[1.0837, 1.2794, 1.1255, 1.1276],\n",
       "         [0.7284, 1.1511, 0.9404, 0.9018],\n",
       "         [0.5752, 0.8642, 0.4514, 0.7447],\n",
       "         [0.3182, 0.5723, 0.7742, 0.6241]]])"
      ]
     },
     "execution_count": 30,
     "metadata": {},
     "output_type": "execute_result"
    }
   ],
   "source": [
    "a=torch.rand(3,4,5)\n",
    "b=torch.rand(3,5,4)\n",
    "c=torch.bmm(a,b)\n",
    "c"
   ]
  },
  {
   "cell_type": "code",
   "execution_count": 31,
   "id": "dc606996",
   "metadata": {},
   "outputs": [
    {
     "data": {
      "text/plain": [
       "tensor([[[1.7016, 1.4097, 1.2841, 1.1988],\n",
       "         [1.2985, 1.1545, 0.8621, 0.9883],\n",
       "         [1.5962, 1.1832, 0.8400, 1.0136],\n",
       "         [2.0396, 2.0342, 1.1741, 1.7137]],\n",
       "\n",
       "        [[1.6923, 1.1891, 1.1183, 0.9997],\n",
       "         [0.8454, 0.7477, 0.4283, 0.6099],\n",
       "         [1.1313, 1.0381, 0.6285, 0.8188],\n",
       "         [1.3697, 0.4392, 0.7935, 0.4638]],\n",
       "\n",
       "        [[1.9321, 1.2517, 1.1837, 1.0692],\n",
       "         [1.4535, 1.5326, 1.2283, 1.1984],\n",
       "         [2.2814, 1.7998, 1.5003, 1.4975],\n",
       "         [1.6174, 1.2191, 0.9489, 1.0207]]])"
      ]
     },
     "execution_count": 31,
     "metadata": {},
     "output_type": "execute_result"
    }
   ],
   "source": [
    "a=torch.rand(3,4,5)\n",
    "b=torch.rand(5,4)\n",
    "c=torch.matmul(a,b)\n",
    "c"
   ]
  },
  {
   "cell_type": "code",
   "execution_count": 3,
   "id": "a2334002",
   "metadata": {},
   "outputs": [
    {
     "data": {
      "text/plain": [
       "tensor([[[1., 2., 3., 4.],\n",
       "         [5., 6., 7., 8.]]])"
      ]
     },
     "execution_count": 3,
     "metadata": {},
     "output_type": "execute_result"
    }
   ],
   "source": [
    "a=torch.Tensor([[1,2,3,4],[5,6,7,8]])\n",
    "a.unsqueeze(0)"
   ]
  },
  {
   "cell_type": "code",
   "execution_count": 5,
   "id": "f9ba6c13",
   "metadata": {},
   "outputs": [
    {
     "data": {
      "text/plain": [
       "tensor([[3, 4, 5],\n",
       "        [6, 4, 3],\n",
       "        [6, 3, 4],\n",
       "        [3, 6, 6],\n",
       "        [6, 6, 5]])"
      ]
     },
     "execution_count": 5,
     "metadata": {},
     "output_type": "execute_result"
    }
   ],
   "source": [
    "a=torch.randint(3,7,size=(5,3))\n",
    "a"
   ]
  },
  {
   "cell_type": "code",
   "execution_count": 20,
   "id": "89432cc6",
   "metadata": {},
   "outputs": [
    {
     "data": {
      "text/plain": [
       "tensor([1.8459, 1.2776, 1.3710])"
      ]
     },
     "execution_count": 20,
     "metadata": {},
     "output_type": "execute_result"
    }
   ],
   "source": [
    "a=torch.randn(3,)\n",
    "a.normal_()\n",
    "a"
   ]
  },
  {
   "cell_type": "code",
   "execution_count": 14,
   "id": "ba632e30",
   "metadata": {},
   "outputs": [
    {
     "data": {
      "text/plain": [
       "tensor([[0],\n",
       "        [1],\n",
       "        [2],\n",
       "        [4]])"
      ]
     },
     "execution_count": 14,
     "metadata": {},
     "output_type": "execute_result"
    }
   ],
   "source": [
    "a=torch.Tensor([1,1,1,0,1])\n",
    "b=torch.nonzero(a)\n",
    "b"
   ]
  },
  {
   "cell_type": "code",
   "execution_count": 22,
   "id": "0d84d5b7",
   "metadata": {},
   "outputs": [
    {
     "data": {
      "text/plain": [
       "tensor([[0.0835],\n",
       "        [0.8989],\n",
       "        [0.2956]])"
      ]
     },
     "execution_count": 22,
     "metadata": {},
     "output_type": "execute_result"
    }
   ],
   "source": [
    "a=torch.rand(3,1)\n",
    "a.expand(3,4)\n",
    "a"
   ]
  },
  {
   "cell_type": "code",
   "execution_count": 24,
   "id": "d8294acf",
   "metadata": {},
   "outputs": [
    {
     "data": {
      "text/plain": [
       "tensor([[[1.5825, 0.2193, 1.3334, 0.7384],\n",
       "         [2.2342, 0.2317, 1.1386, 0.9165],\n",
       "         [2.0212, 0.4615, 1.2879, 0.9241],\n",
       "         [2.2618, 0.3036, 1.4813, 0.9305]],\n",
       "\n",
       "        [[2.1544, 2.5683, 0.9694, 1.7398],\n",
       "         [1.6870, 1.9033, 0.9202, 1.3259],\n",
       "         [0.9939, 1.2441, 0.8638, 0.6290],\n",
       "         [1.5247, 1.7701, 0.8258, 1.1097]],\n",
       "\n",
       "        [[0.8837, 1.0403, 1.0077, 0.9387],\n",
       "         [0.9226, 0.8406, 0.9525, 0.6447],\n",
       "         [1.4257, 1.0587, 1.3797, 1.2961],\n",
       "         [1.6253, 1.3072, 1.6203, 1.5308]]])"
      ]
     },
     "execution_count": 24,
     "metadata": {},
     "output_type": "execute_result"
    }
   ],
   "source": [
    "a=torch.rand(3,4,5)\n",
    "b=torch.rand(3,5,4)\n",
    "c=torch.bmm(a,b)\n",
    "c"
   ]
  },
  {
   "cell_type": "code",
   "execution_count": 29,
   "id": "885c98a1",
   "metadata": {},
   "outputs": [
    {
     "data": {
      "text/plain": [
       "tensor([[[1.9138, 2.4448, 1.7837, 0.9530],\n",
       "         [1.0076, 1.0280, 0.4811, 0.3977],\n",
       "         [1.9497, 2.4177, 2.1230, 1.2444],\n",
       "         [2.0676, 2.3462, 2.0162, 1.3760]],\n",
       "\n",
       "        [[2.3106, 2.6720, 1.7995, 1.1240],\n",
       "         [1.7664, 1.7886, 0.9395, 0.8037],\n",
       "         [1.2416, 1.6526, 1.5705, 0.8867],\n",
       "         [2.3251, 2.9172, 2.0999, 1.1565]],\n",
       "\n",
       "        [[2.0689, 2.3175, 1.4559, 0.9851],\n",
       "         [1.8845, 2.0618, 1.2891, 0.9139],\n",
       "         [1.7577, 2.0112, 1.3309, 0.8631],\n",
       "         [2.1965, 2.5148, 1.5670, 1.0086]]])"
      ]
     },
     "execution_count": 29,
     "metadata": {},
     "output_type": "execute_result"
    }
   ],
   "source": [
    "a=torch.rand(3,4,5)\n",
    "b=torch.rand(5,4)\n",
    "c=torch.matmul(a,b)\n",
    "c"
   ]
  },
  {
   "cell_type": "code",
   "execution_count": 40,
   "id": "e04aebcb",
   "metadata": {},
   "outputs": [
    {
     "name": "stderr",
     "output_type": "stream",
     "text": [
      "C:\\Users\\DESKTOP\\anaconda3\\envs\\a2\\lib\\site-packages\\ipykernel_launcher.py:3: UserWarning: torch.range is deprecated and will be removed in a future release because its behavior is inconsistent with Python's range builtin. Instead, use torch.arange, which produces values in [start, end).\n",
      "  This is separate from the ipykernel package so we can avoid doing imports until\n"
     ]
    },
    {
     "data": {
      "image/png": "[encoded data removed]",
      "text/plain": [
       "<Figure size 432x288 with 1 Axes>"
      ]
     },
     "metadata": {
      "needs_background": "light"
     },
     "output_type": "display_data"
    }
   ],
   "source": [
    "import matplotlib.pyplot as plt\n",
    "\n",
    "x=torch.range(-5.,5.,0.1)\n",
    "y=torch.tanh(x)\n",
    "plt.plot(x.numpy(),y.numpy())\n",
    "plt.grid(True)\n",
    "plt.show()"
   ]
  },
  {
   "cell_type": "code",
   "execution_count": 81,
   "id": "81f412ef",
   "metadata": {},
   "outputs": [
    {
     "data": {
      "text/plain": [
       "tensor(0.6105)"
      ]
     },
     "execution_count": 81,
     "metadata": {},
     "output_type": "execute_result"
    }
   ],
   "source": [
    "import torch.nn as nn\n",
    "\n",
    "ce_loss=nn.CrossEntropyLoss()\n",
    "outputs=torch.randn(3,5,requires_grad=True)\n",
    "out = torch.tensor([[-0.8, -0.2], [-0.2, -0.3], [-0.24, -0.35]]).float()\n",
    "targets = torch.tensor([1,0,1])\n",
    "loss=ce_loss(out,targets)\n",
    "loss"
   ]
  },
  {
   "cell_type": "code",
   "execution_count": 91,
   "id": "8485c7e9",
   "metadata": {},
   "outputs": [
    {
     "name": "stdout",
     "output_type": "stream",
     "text": [
      "tensor([[0.4681],\n",
      "        [0.4907],\n",
      "        [0.4971],\n",
      "        [0.2185]], grad_fn=<SigmoidBackward>)\n",
      "tensor(0.5948, grad_fn=<BinaryCrossEntropyBackward>)\n"
     ]
    }
   ],
   "source": [
    "bce_loss=nn.BCELoss()\n",
    "sigmoid=nn.Sigmoid()\n",
    "probabilities=sigmoid(torch.randn(4,1,requires_grad=True))\n",
    "targets=torch.tensor([1,0,1,0],dtype=torch.float32).view(4,1)\n",
    "loss=bce_loss(probabilities,targets)\n",
    "print(probabilities)\n",
    "print(loss)"
   ]
  },
  {
   "cell_type": "code",
   "execution_count": 96,
   "id": "3979ae6e",
   "metadata": {},
   "outputs": [],
   "source": [
    "class Perceptron(nn.Module):\n",
    "    def __init__(self,input_dim):\n",
    "        super(Perceptron,self).__init__()\n",
    "        self.fc1=nn.Linear(input_dim,1)\n",
    "        \n",
    "    def forward(self,x_in):\n",
    "        return torch.sigmoid(self.fc1(x_in)).squeeze()\n",
    "    "
   ]
  },
  {
   "cell_type": "code",
   "execution_count": 97,
   "id": "c8969f9a",
   "metadata": {},
   "outputs": [],
   "source": [
    "import torch.optim as optim\n",
    "\n",
    "input_dim=2\n",
    "lr=0.001\n",
    "\n",
    "perceptron=Perceptron(input_dim=input_dim)\n",
    "bce_loss=nn.BCELoss()\n",
    "optimizer=optim.Adam(params=perceptron.parameters(),lr=lr)"
   ]
  },
  {
   "cell_type": "code",
   "execution_count": null,
   "id": "c72da514",
   "metadata": {},
   "outputs": [],
   "source": [
    "for epoch_i in range(n_epochs)"
   ]
  },
  {
   "cell_type": "code",
   "execution_count": null,
   "id": "db6e3cf7",
   "metadata": {},
   "outputs": [],
   "source": []
  }
 ],
 "metadata": {
  "kernelspec": {
   "display_name": "Python 3",
   "language": "python",
   "name": "python3"
  },
  "language_info": {
   "codemirror_mode": {
    "name": "ipython",
    "version": 3
   },
   "file_extension": ".py",
   "mimetype": "text/x-python",
   "name": "python",
   "nbconvert_exporter": "python",
   "pygments_lexer": "ipython3",
   "version": "3.7.11"
  }
 },
 "nbformat": 4,
 "nbformat_minor": 5
}
